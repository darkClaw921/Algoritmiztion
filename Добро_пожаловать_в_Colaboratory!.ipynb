{
  "nbformat": 4,
  "nbformat_minor": 0,
  "metadata": {
    "colab": {
      "name": "Добро пожаловать в Colaboratory!",
      "provenance": [],
      "collapsed_sections": [],
      "include_colab_link": true
    },
    "kernelspec": {
      "display_name": "Python 3",
      "name": "python3"
    }
  },
  "cells": [
    {
      "cell_type": "markdown",
      "metadata": {
        "id": "view-in-github",
        "colab_type": "text"
      },
      "source": [
        "<a href=\"https://colab.research.google.com/github/darkClaw921/Algoritmiztion/blob/master/%D0%94%D0%BE%D0%B1%D1%80%D0%BE_%D0%BF%D0%BE%D0%B6%D0%B0%D0%BB%D0%BE%D0%B2%D0%B0%D1%82%D1%8C_%D0%B2_Colaboratory!.ipynb\" target=\"_parent\"><img src=\"https://colab.research.google.com/assets/colab-badge.svg\" alt=\"Open In Colab\"/></a>"
      ]
    },
    {
      "cell_type": "code",
      "metadata": {
        "id": "SfPnz1jv5JeY"
      },
      "source": [
        "def sendQuestion(questions, numberOfQuestion):\n",
        "    questions[numberOfQuestion]\n",
        "\n",
        "    return vkMessegeSend()\n",
        "  "
      ],
      "execution_count": null,
      "outputs": []
    },
    {
      "cell_type": "code",
      "metadata": {
        "id": "aO5i97uW6w5Y"
      },
      "source": [
        "def vkMessegeSend(\n",
        "                id=None,\n",
        "                attachment=None,\n",
        "                messege=None,\n",
        "                keyboard=None\n",
        "                ):\n",
        "    print(f\"пользователь {id} получит сообщение {messege}\")\n",
        "    "
      ],
      "execution_count": 8,
      "outputs": []
    },
    {
      "cell_type": "code",
      "metadata": {
        "colab": {
          "base_uri": "https://localhost:8080/"
        },
        "id": "JXhvYnQF7w2o",
        "outputId": "8718dff6-8cae-4521-cb6e-780390ddab2f"
      },
      "source": [
        "vkMessegeSend(\n",
        "        id=12321321,\n",
        "        attachment=1233333333,\n",
        "        messege='hello'\n",
        "        )\n",
        "\n",
        "questions = {\n",
        "            'hello' : ['123'],\n",
        "            'privet' : ['456','1234'],\n",
        "            'hell' : ['3123']\n",
        "            }\n",
        "print(questions.popitem())\n"
      ],
      "execution_count": 35,
      "outputs": [
        {
          "output_type": "stream",
          "text": [
            "пользователь 12321321 получит сообщение hello\n",
            "('hell', ['3123'])\n"
          ],
          "name": "stdout"
        }
      ]
    }
  ]
}